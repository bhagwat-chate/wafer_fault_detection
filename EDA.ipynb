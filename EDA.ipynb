{
 "cells": [
  {
   "cell_type": "markdown",
   "id": "e63e819f",
   "metadata": {},
   "source": [
    "# Sensor Fault Detection\n",
    "The inputs of various sensors for different wafers have been provided. In electronics, a wafer (also called a slice or substrate) is a thin slice of semiconductor used for the fabrication of integrated circuits. The goal is to build a machine learning model which predicts whether a wafer needs to be replaced or not(i.e., whether it is working or not) based on the inputs from various sensors. There are two classes: +1 and -1.\n",
    "\n",
    "    •\t+1 means that the wafer is in a working condition and it doesn’t need to be replaced.\n",
    "    •\t-1 means that the wafer is faulty and it needs to be replaced. \n",
    "\n"
   ]
  },
  {
   "cell_type": "markdown",
   "id": "b19fc765",
   "metadata": {},
   "source": [
    "#### Import the required libraries"
   ]
  },
  {
   "cell_type": "code",
   "execution_count": 1,
   "id": "a041cef0",
   "metadata": {},
   "outputs": [],
   "source": [
    "import pandas as pd\n",
    "import seaborn as sns\n",
    "import numpy as np\n",
    "from statistics import mean\n",
    "import matplotlib.pyplot as plt\n",
    "import warnings\n",
    "from sklearn.preprocessing import PowerTransformer\n",
    "import numpy as np\n",
    "from sklearn.preprocessing import LabelEncoder\n",
    "from sklearn.pipeline import Pipeline\n",
    "from sklearn.utils import resample\n",
    "from sklearn.linear_model import LogisticRegression\n",
    "from sklearn.ensemble import RandomForestClassifier, AdaBoostClassifier, GradientBoostingClassifier\n",
    "from sklearn.neighbors import KNeighborsClassifier\n",
    "from sklearn.tree import DecisionTreeClassifier\n",
    "from sklearn.svm import SVC\n",
    "from sklearn import metrics \n",
    "from sklearn.metrics import accuracy_score, classification_report,ConfusionMatrixDisplay\n",
    "from sklearn.metrics import precision_score, recall_score, f1_score, roc_auc_score,roc_curve,confusion_matrix\n",
    "from sklearn.model_selection import  train_test_split, RepeatedStratifiedKFold, cross_val_score\n",
    "from sklearn.preprocessing import OneHotEncoder, MinMaxScaler\n",
    "from sklearn.compose import ColumnTransformer\n",
    "from sklearn.impute import SimpleImputer, KNNImputer\n",
    "# from xgboost import XGBClassifier\n",
    "from sklearn.preprocessing import StandardScaler, MinMaxScaler,RobustScaler\n",
    "from sklearn.compose import ColumnTransformer\n",
    "# from catboost import CatBoostClassifier\n",
    "# from imblearn.combine import SMOTETomek\n",
    "import glob\n",
    "import os\n",
    "warnings.filterwarnings(\"ignore\")\n",
    "%matplotlib inline"
   ]
  },
  {
   "cell_type": "code",
   "execution_count": null,
   "id": "cdb28d9b",
   "metadata": {},
   "outputs": [],
   "source": []
  },
  {
   "cell_type": "markdown",
   "id": "fc3f4225",
   "metadata": {},
   "source": [
    "#### Load Data"
   ]
  },
  {
   "cell_type": "code",
   "execution_count": 2,
   "id": "840996d8",
   "metadata": {},
   "outputs": [],
   "source": [
    "flage = 0\n",
    "path = \"wafer\\\\data_ingestion\\\\Training_raw_files_validated\\\\Good_Raw\"\n",
    "\n",
    "for f in os.listdir(path):\n",
    "    temp = pd.read_csv(path+'\\\\'+f)\n",
    "\n",
    "    if flage == 0:\n",
    "        flage=1\n",
    "        data = temp\n",
    "    else:\n",
    "        data = data.append(temp)"
   ]
  },
  {
   "cell_type": "code",
   "execution_count": 3,
   "id": "2830b0b1",
   "metadata": {},
   "outputs": [
    {
     "data": {
      "text/plain": [
       "(837, 592)"
      ]
     },
     "execution_count": 3,
     "metadata": {},
     "output_type": "execute_result"
    }
   ],
   "source": [
    "data.shape"
   ]
  },
  {
   "cell_type": "code",
   "execution_count": 4,
   "id": "d1a6fdbd",
   "metadata": {},
   "outputs": [
    {
     "name": "stdout",
     "output_type": "stream",
     "text": [
      "Number of features:  592\n",
      "Unique features:  [-1  1]\n",
      "Number of features: 2, It's binary classification\n",
      "Class distribution: \n",
      " -1    800\n",
      " 1     37\n",
      "Name: Good/Bad, dtype: int64  it's perfectly imbalance classification\n"
     ]
    }
   ],
   "source": [
    "print(\"Number of features: \", data.shape[1])\n",
    "print(\"Unique features: \", data['Good/Bad'].unique())\n",
    "print(\"Number of features: \"+str(data['Good/Bad'].nunique()) + \", It's binary classification\")\n",
    "print(\"Class distribution: \\n\", data['Good/Bad'].value_counts(), \" it's perfectly imbalance classification\")"
   ]
  },
  {
   "cell_type": "markdown",
   "id": "a7a2536d",
   "metadata": {},
   "source": [
    "#### Categorical and numerical feature count"
   ]
  },
  {
   "cell_type": "code",
   "execution_count": 5,
   "id": "33ac3e87",
   "metadata": {
    "scrolled": true
   },
   "outputs": [
    {
     "name": "stdout",
     "output_type": "stream",
     "text": [
      "Numerical feature count:  591\n",
      "Numerical feature:  ['Sensor-1', 'Sensor-2', 'Sensor-3', 'Sensor-4', 'Sensor-5', 'Sensor-6', 'Sensor-7', 'Sensor-8', 'Sensor-9', 'Sensor-10', 'Sensor-11', 'Sensor-12', 'Sensor-13', 'Sensor-14', 'Sensor-15', 'Sensor-16', 'Sensor-17', 'Sensor-18', 'Sensor-19', 'Sensor-20', 'Sensor-21', 'Sensor-22', 'Sensor-23', 'Sensor-24', 'Sensor-25', 'Sensor-26', 'Sensor-27', 'Sensor-28', 'Sensor-29', 'Sensor-30', 'Sensor-31', 'Sensor-32', 'Sensor-33', 'Sensor-34', 'Sensor-35', 'Sensor-36', 'Sensor-37', 'Sensor-38', 'Sensor-39', 'Sensor-40', 'Sensor-41', 'Sensor-42', 'Sensor-43', 'Sensor-44', 'Sensor-45', 'Sensor-46', 'Sensor-47', 'Sensor-48', 'Sensor-49', 'Sensor-50', 'Sensor-51', 'Sensor-52', 'Sensor-53', 'Sensor-54', 'Sensor-55', 'Sensor-56', 'Sensor-57', 'Sensor-58', 'Sensor-59', 'Sensor-60', 'Sensor-61', 'Sensor-62', 'Sensor-63', 'Sensor-64', 'Sensor-65', 'Sensor-66', 'Sensor-67', 'Sensor-68', 'Sensor-69', 'Sensor-70', 'Sensor-71', 'Sensor-72', 'Sensor-73', 'Sensor-74', 'Sensor-75', 'Sensor-76', 'Sensor-77', 'Sensor-78', 'Sensor-79', 'Sensor-80', 'Sensor-81', 'Sensor-82', 'Sensor-83', 'Sensor-84', 'Sensor-85', 'Sensor-86', 'Sensor-87', 'Sensor-88', 'Sensor-89', 'Sensor-90', 'Sensor-91', 'Sensor-92', 'Sensor-93', 'Sensor-94', 'Sensor-95', 'Sensor-96', 'Sensor-97', 'Sensor-98', 'Sensor-99', 'Sensor-100', 'Sensor-101', 'Sensor-102', 'Sensor-103', 'Sensor-104', 'Sensor-105', 'Sensor-106', 'Sensor-107', 'Sensor-108', 'Sensor-109', 'Sensor-110', 'Sensor-111', 'Sensor-112', 'Sensor-113', 'Sensor-114', 'Sensor-115', 'Sensor-116', 'Sensor-117', 'Sensor-118', 'Sensor-119', 'Sensor-120', 'Sensor-121', 'Sensor-122', 'Sensor-123', 'Sensor-124', 'Sensor-125', 'Sensor-126', 'Sensor-127', 'Sensor-128', 'Sensor-129', 'Sensor-130', 'Sensor-131', 'Sensor-132', 'Sensor-133', 'Sensor-134', 'Sensor-135', 'Sensor-136', 'Sensor-137', 'Sensor-138', 'Sensor-139', 'Sensor-140', 'Sensor-141', 'Sensor-142', 'Sensor-143', 'Sensor-144', 'Sensor-145', 'Sensor-146', 'Sensor-147', 'Sensor-148', 'Sensor-149', 'Sensor-150', 'Sensor-151', 'Sensor-152', 'Sensor-153', 'Sensor-154', 'Sensor-155', 'Sensor-156', 'Sensor-157', 'Sensor-158', 'Sensor-159', 'Sensor-160', 'Sensor-161', 'Sensor-162', 'Sensor-163', 'Sensor-164', 'Sensor-165', 'Sensor-166', 'Sensor-167', 'Sensor-168', 'Sensor-169', 'Sensor-170', 'Sensor-171', 'Sensor-172', 'Sensor-173', 'Sensor-174', 'Sensor-175', 'Sensor-176', 'Sensor-177', 'Sensor-178', 'Sensor-179', 'Sensor-180', 'Sensor-181', 'Sensor-182', 'Sensor-183', 'Sensor-184', 'Sensor-185', 'Sensor-186', 'Sensor-187', 'Sensor-188', 'Sensor-189', 'Sensor-190', 'Sensor-191', 'Sensor-192', 'Sensor-193', 'Sensor-194', 'Sensor-195', 'Sensor-196', 'Sensor-197', 'Sensor-198', 'Sensor-199', 'Sensor-200', 'Sensor-201', 'Sensor-202', 'Sensor-203', 'Sensor-204', 'Sensor-205', 'Sensor-206', 'Sensor-207', 'Sensor-208', 'Sensor-209', 'Sensor-210', 'Sensor-211', 'Sensor-212', 'Sensor-213', 'Sensor-214', 'Sensor-215', 'Sensor-216', 'Sensor-217', 'Sensor-218', 'Sensor-219', 'Sensor-220', 'Sensor-221', 'Sensor-222', 'Sensor-223', 'Sensor-224', 'Sensor-225', 'Sensor-226', 'Sensor-227', 'Sensor-228', 'Sensor-229', 'Sensor-230', 'Sensor-231', 'Sensor-232', 'Sensor-233', 'Sensor-234', 'Sensor-235', 'Sensor-236', 'Sensor-237', 'Sensor-238', 'Sensor-239', 'Sensor-240', 'Sensor-241', 'Sensor-242', 'Sensor-243', 'Sensor-244', 'Sensor-245', 'Sensor-246', 'Sensor-247', 'Sensor-248', 'Sensor-249', 'Sensor-250', 'Sensor-251', 'Sensor-252', 'Sensor-253', 'Sensor-254', 'Sensor-255', 'Sensor-256', 'Sensor-257', 'Sensor-258', 'Sensor-259', 'Sensor-260', 'Sensor-261', 'Sensor-262', 'Sensor-263', 'Sensor-264', 'Sensor-265', 'Sensor-266', 'Sensor-267', 'Sensor-268', 'Sensor-269', 'Sensor-270', 'Sensor-271', 'Sensor-272', 'Sensor-273', 'Sensor-274', 'Sensor-275', 'Sensor-276', 'Sensor-277', 'Sensor-278', 'Sensor-279', 'Sensor-280', 'Sensor-281', 'Sensor-282', 'Sensor-283', 'Sensor-284', 'Sensor-285', 'Sensor-286', 'Sensor-287', 'Sensor-288', 'Sensor-289', 'Sensor-290', 'Sensor-291', 'Sensor-292', 'Sensor-293', 'Sensor-294', 'Sensor-295', 'Sensor-296', 'Sensor-297', 'Sensor-298', 'Sensor-299', 'Sensor-300', 'Sensor-301', 'Sensor-302', 'Sensor-303', 'Sensor-304', 'Sensor-305', 'Sensor-306', 'Sensor-307', 'Sensor-308', 'Sensor-309', 'Sensor-310', 'Sensor-311', 'Sensor-312', 'Sensor-313', 'Sensor-314', 'Sensor-315', 'Sensor-316', 'Sensor-317', 'Sensor-318', 'Sensor-319', 'Sensor-320', 'Sensor-321', 'Sensor-322', 'Sensor-323', 'Sensor-324', 'Sensor-325', 'Sensor-326', 'Sensor-327', 'Sensor-328', 'Sensor-329', 'Sensor-330', 'Sensor-331', 'Sensor-332', 'Sensor-333', 'Sensor-334', 'Sensor-335', 'Sensor-336', 'Sensor-337', 'Sensor-338', 'Sensor-339', 'Sensor-340', 'Sensor-341', 'Sensor-342', 'Sensor-343', 'Sensor-344', 'Sensor-345', 'Sensor-346', 'Sensor-347', 'Sensor-348', 'Sensor-349', 'Sensor-350', 'Sensor-351', 'Sensor-352', 'Sensor-353', 'Sensor-354', 'Sensor-355', 'Sensor-356', 'Sensor-357', 'Sensor-358', 'Sensor-359', 'Sensor-360', 'Sensor-361', 'Sensor-362', 'Sensor-363', 'Sensor-364', 'Sensor-365', 'Sensor-366', 'Sensor-367', 'Sensor-368', 'Sensor-369', 'Sensor-370', 'Sensor-371', 'Sensor-372', 'Sensor-373', 'Sensor-374', 'Sensor-375', 'Sensor-376', 'Sensor-377', 'Sensor-378', 'Sensor-379', 'Sensor-380', 'Sensor-381', 'Sensor-382', 'Sensor-383', 'Sensor-384', 'Sensor-385', 'Sensor-386', 'Sensor-387', 'Sensor-388', 'Sensor-389', 'Sensor-390', 'Sensor-391', 'Sensor-392', 'Sensor-393', 'Sensor-394', 'Sensor-395', 'Sensor-396', 'Sensor-397', 'Sensor-398', 'Sensor-399', 'Sensor-400', 'Sensor-401', 'Sensor-402', 'Sensor-403', 'Sensor-404', 'Sensor-405', 'Sensor-406', 'Sensor-407', 'Sensor-408', 'Sensor-409', 'Sensor-410', 'Sensor-411', 'Sensor-412', 'Sensor-413', 'Sensor-414', 'Sensor-415', 'Sensor-416', 'Sensor-417', 'Sensor-418', 'Sensor-419', 'Sensor-420', 'Sensor-421', 'Sensor-422', 'Sensor-423', 'Sensor-424', 'Sensor-425', 'Sensor-426', 'Sensor-427', 'Sensor-428', 'Sensor-429', 'Sensor-430', 'Sensor-431', 'Sensor-432', 'Sensor-433', 'Sensor-434', 'Sensor-435', 'Sensor-436', 'Sensor-437', 'Sensor-438', 'Sensor-439', 'Sensor-440', 'Sensor-441', 'Sensor-442', 'Sensor-443', 'Sensor-444', 'Sensor-445', 'Sensor-446', 'Sensor-447', 'Sensor-448', 'Sensor-449', 'Sensor-450', 'Sensor-451', 'Sensor-452', 'Sensor-453', 'Sensor-454', 'Sensor-455', 'Sensor-456', 'Sensor-457', 'Sensor-458', 'Sensor-459', 'Sensor-460', 'Sensor-461', 'Sensor-462', 'Sensor-463', 'Sensor-464', 'Sensor-465', 'Sensor-466', 'Sensor-467', 'Sensor-468', 'Sensor-469', 'Sensor-470', 'Sensor-471', 'Sensor-472', 'Sensor-473', 'Sensor-474', 'Sensor-475', 'Sensor-476', 'Sensor-477', 'Sensor-478', 'Sensor-479', 'Sensor-480', 'Sensor-481', 'Sensor-482', 'Sensor-483', 'Sensor-484', 'Sensor-485', 'Sensor-486', 'Sensor-487', 'Sensor-488', 'Sensor-489', 'Sensor-490', 'Sensor-491', 'Sensor-492', 'Sensor-493', 'Sensor-494', 'Sensor-495', 'Sensor-496', 'Sensor-497', 'Sensor-498', 'Sensor-499', 'Sensor-500', 'Sensor-501', 'Sensor-502', 'Sensor-503', 'Sensor-504', 'Sensor-505', 'Sensor-506', 'Sensor-507', 'Sensor-508', 'Sensor-509', 'Sensor-510', 'Sensor-511', 'Sensor-512', 'Sensor-513', 'Sensor-514', 'Sensor-515', 'Sensor-516', 'Sensor-517', 'Sensor-518', 'Sensor-519', 'Sensor-520', 'Sensor-521', 'Sensor-522', 'Sensor-523', 'Sensor-524', 'Sensor-525', 'Sensor-526', 'Sensor-527', 'Sensor-528', 'Sensor-529', 'Sensor-530', 'Sensor-531', 'Sensor-532', 'Sensor-533', 'Sensor-534', 'Sensor-535', 'Sensor-536', 'Sensor-537', 'Sensor-538', 'Sensor-539', 'Sensor-540', 'Sensor-541', 'Sensor-542', 'Sensor-543', 'Sensor-544', 'Sensor-545', 'Sensor-546', 'Sensor-547', 'Sensor-548', 'Sensor-549', 'Sensor-550', 'Sensor-551', 'Sensor-552', 'Sensor-553', 'Sensor-554', 'Sensor-555', 'Sensor-556', 'Sensor-557', 'Sensor-558', 'Sensor-559', 'Sensor-560', 'Sensor-561', 'Sensor-562', 'Sensor-563', 'Sensor-564', 'Sensor-565', 'Sensor-566', 'Sensor-567', 'Sensor-568', 'Sensor-569', 'Sensor-570', 'Sensor-571', 'Sensor-572', 'Sensor-573', 'Sensor-574', 'Sensor-575', 'Sensor-576', 'Sensor-577', 'Sensor-578', 'Sensor-579', 'Sensor-580', 'Sensor-581', 'Sensor-582', 'Sensor-583', 'Sensor-584', 'Sensor-585', 'Sensor-586', 'Sensor-587', 'Sensor-588', 'Sensor-589', 'Sensor-590', 'Good/Bad']\n"
     ]
    }
   ],
   "source": [
    "print(\"Numerical feature count: \",len([f for f in data.columns if data[f].dtypes != 'O']))\n",
    "print(\"Numerical feature: \",[f for f in data.columns if data[f].dtypes != 'O'])\n"
   ]
  },
  {
   "cell_type": "code",
   "execution_count": 6,
   "id": "9fd9573f",
   "metadata": {},
   "outputs": [
    {
     "name": "stdout",
     "output_type": "stream",
     "text": [
      "Count of numerical features:  1\n",
      "Numerical features:  ['Wafer']\n"
     ]
    }
   ],
   "source": [
    "print(\"Count of numerical features: \", len([f for f in data.columns if data[f].dtypes == 'O']))\n",
    "print(\"Numerical features: \", [f for f in data.columns if data[f].dtypes == 'O'])"
   ]
  },
  {
   "cell_type": "code",
   "execution_count": 7,
   "id": "cc05665c",
   "metadata": {},
   "outputs": [],
   "source": [
    "wafer_name = data['Wafer'].nunique()\n",
    "data.drop(['Wafer'], axis=1, inplace=True)"
   ]
  },
  {
   "cell_type": "code",
   "execution_count": null,
   "id": "86abf623",
   "metadata": {},
   "outputs": [],
   "source": []
  },
  {
   "cell_type": "code",
   "execution_count": null,
   "id": "80fdc5db",
   "metadata": {},
   "outputs": [],
   "source": []
  },
  {
   "cell_type": "markdown",
   "id": "9e7a823e",
   "metadata": {},
   "source": [
    "### As this is sensor data, interpretation of data is not required"
   ]
  },
  {
   "cell_type": "markdown",
   "id": "00403ebc",
   "metadata": {},
   "source": [
    "#### Checking missing values"
   ]
  },
  {
   "cell_type": "code",
   "execution_count": 8,
   "id": "57a33caa",
   "metadata": {},
   "outputs": [
    {
     "data": {
      "image/png": "[encoded data removed]",
      "text/plain": [
       "<Figure size 1500x500 with 1 Axes>"
      ]
     },
     "metadata": {},
     "output_type": "display_data"
    }
   ],
   "source": [
    "# Plotting Missing values count for each column\n",
    "fig, ax = plt.subplots(figsize=(15,5))\n",
    "\n",
    "missing = data.isna().sum().div(data.shape[0]).mul(100).to_frame().sort_values(by=0, ascending = False)\n",
    "\n",
    "ax.bar(missing.index, missing.values.T[0])\n",
    "plt.xticks([])\n",
    "plt.ylabel(\"Percentage missing\")\n",
    "plt.show()"
   ]
  },
  {
   "cell_type": "markdown",
   "id": "75a55531",
   "metadata": {},
   "source": [
    "#### Droping columns which has >70% missing values"
   ]
  },
  {
   "cell_type": "code",
   "execution_count": 9,
   "id": "551d0c34",
   "metadata": {},
   "outputs": [
    {
     "data": {
      "text/html": [
       "<div>\n",
       "<style scoped>\n",
       "    .dataframe tbody tr th:only-of-type {\n",
       "        vertical-align: middle;\n",
       "    }\n",
       "\n",
       "    .dataframe tbody tr th {\n",
       "        vertical-align: top;\n",
       "    }\n",
       "\n",
       "    .dataframe thead th {\n",
       "        text-align: right;\n",
       "    }\n",
       "</style>\n",
       "<table border=\"1\" class=\"dataframe\">\n",
       "  <thead>\n",
       "    <tr style=\"text-align: right;\">\n",
       "      <th></th>\n",
       "      <th>0</th>\n",
       "    </tr>\n",
       "  </thead>\n",
       "  <tbody>\n",
       "    <tr>\n",
       "      <th>Sensor-294</th>\n",
       "      <td>92.114695</td>\n",
       "    </tr>\n",
       "    <tr>\n",
       "      <th>Sensor-158</th>\n",
       "      <td>92.114695</td>\n",
       "    </tr>\n",
       "    <tr>\n",
       "      <th>Sensor-159</th>\n",
       "      <td>92.114695</td>\n",
       "    </tr>\n",
       "    <tr>\n",
       "      <th>Sensor-293</th>\n",
       "      <td>92.114695</td>\n",
       "    </tr>\n",
       "    <tr>\n",
       "      <th>Sensor-221</th>\n",
       "      <td>72.998805</td>\n",
       "    </tr>\n",
       "    <tr>\n",
       "      <th>Sensor-359</th>\n",
       "      <td>72.998805</td>\n",
       "    </tr>\n",
       "    <tr>\n",
       "      <th>Sensor-86</th>\n",
       "      <td>72.998805</td>\n",
       "    </tr>\n",
       "    <tr>\n",
       "      <th>Sensor-493</th>\n",
       "      <td>72.998805</td>\n",
       "    </tr>\n",
       "  </tbody>\n",
       "</table>\n",
       "</div>"
      ],
      "text/plain": [
       "                    0\n",
       "Sensor-294  92.114695\n",
       "Sensor-158  92.114695\n",
       "Sensor-159  92.114695\n",
       "Sensor-293  92.114695\n",
       "Sensor-221  72.998805\n",
       "Sensor-359  72.998805\n",
       "Sensor-86   72.998805\n",
       "Sensor-493  72.998805"
      ]
     },
     "execution_count": 9,
     "metadata": {},
     "output_type": "execute_result"
    }
   ],
   "source": [
    "dropcols = missing[missing[0] > 70]\n",
    "dropcols"
   ]
  },
  {
   "cell_type": "code",
   "execution_count": 10,
   "id": "acd961dd",
   "metadata": {},
   "outputs": [],
   "source": [
    "data.drop(list(dropcols.index), axis=1, inplace=True)"
   ]
  },
  {
   "cell_type": "markdown",
   "id": "e2c6fe42",
   "metadata": {},
   "source": [
    "#### Check the percentage os missing values after droping features with more than 70% missing values"
   ]
  },
  {
   "cell_type": "code",
   "execution_count": 11,
   "id": "4cdd6c51",
   "metadata": {},
   "outputs": [
    {
     "name": "stdout",
     "output_type": "stream",
     "text": [
      "Percentage of total missing cells in the data 2.76%\n"
     ]
    }
   ],
   "source": [
    "missing_values_count = data.isna().sum()\n",
    "total_cells = np.product(data.shape)\n",
    "total_missing_values = missing_values_count.sum()\n",
    "print(f\"Percentage of total missing cells in the data {round((total_missing_values/total_cells) * 100,2)}%\")"
   ]
  },
  {
   "cell_type": "markdown",
   "id": "e23a96b9",
   "metadata": {},
   "source": [
    "#### Visualization of unique values in label feature"
   ]
  },
  {
   "cell_type": "code",
   "execution_count": 12,
   "id": "ea391dab",
   "metadata": {},
   "outputs": [
    {
     "data": {
      "image/png": "[encoded data removed]",
      "text/plain": [
       "<Figure size 500x500 with 1 Axes>"
      ]
     },
     "metadata": {},
     "output_type": "display_data"
    }
   ],
   "source": [
    "pos = data[data['Good/Bad']==+1].shape[0]\n",
    "neg = data[data['Good/Bad']==-1].shape[0]\n",
    "sns.catplot(data=data, x=\"Good/Bad\", kind=\"count\", palette=\"winter_r\", alpha=.6)\n",
    "plt.title(\"Label Count: Class +1: {v1}, Class -1: {v2}\".format(v1=pos, v2=neg))\n",
    "plt.show()"
   ]
  },
  {
   "cell_type": "markdown",
   "id": "4db44024",
   "metadata": {},
   "source": [
    "#### Report\n",
    "\n",
    "- The target classes are highly imbalanced\n",
    "- Class imbalance is a scenario that arises when we have unequal distribution of class in a dataset i.e. the no. of data points in the negative class (majority class) very large compared to that of the positive class (minority class)\n",
    "- If the imbalanced data is not treated beforehand, then this will degrade the performance of the classifier model.\n",
    "    Hence we should handle imbalanced data with certain methods.\n",
    "\n",
    "#### How to handle Imbalance Data ?\n",
    "\n",
    "- Resampling data is one of the most commonly preferred approaches to deal with an imbalanced dataset. There are broadly two types of methods for this i) Undersampling ii) Oversampling. In most cases, oversampling is preferred over undersampling techniques. The reason being, in undersampling we tend to remove instances from data that may be carrying some important information.\n",
    "- SMOTE: Synthetic Minority Oversampling Technique SMOTE is an oversampling technique where the synthetic samples are generated for the minority class.\n",
    "- Hybridization techniques involve combining both undersampling and oversampling techniques. This is done to optimize the performance of classifier models for the samples created as part of these techniques.\n",
    "- It only duplicates the data and it won't add and new information. Hence we look at some different techniques."
   ]
  },
  {
   "cell_type": "markdown",
   "id": "150a60c7",
   "metadata": {},
   "source": [
    "#### Create Functions for model training and evaluation"
   ]
  },
  {
   "cell_type": "code",
   "execution_count": 13,
   "id": "1e7fc206",
   "metadata": {},
   "outputs": [],
   "source": [
    "def evaluate_clf(true, predicted):\n",
    "    '''\n",
    "    This function takes in true values and predicted values\n",
    "    Returns: Accuracy, F1-Score, Precision, Recall, Roc-auc Score\n",
    "    '''\n",
    "    acc = accuracy_score(true, predicted) # Calculate Accuracy\n",
    "    f1 = f1_score(true, predicted) # Calculate F1-score\n",
    "    precision = precision_score(true, predicted) # Calculate Precision\n",
    "    recall = recall_score(true, predicted)  # Calculate Recall\n",
    "    roc_auc = roc_auc_score(true, predicted) #Calculate Roc\n",
    "    return acc, f1 , precision, recall, roc_auc"
   ]
  },
  {
   "cell_type": "code",
   "execution_count": 14,
   "id": "90a5ac66",
   "metadata": {},
   "outputs": [],
   "source": [
    "# Create cost of the model as per data description\n",
    "def total_cost(y_true, y_pred):\n",
    "    '''\n",
    "    This function takes y_ture, y_predicted, and prints Total cost due to misclassification\n",
    "   \n",
    "    '''\n",
    "    tn, fp, fn, tp = confusion_matrix(y_true, y_pred).ravel()\n",
    "    cost = 10*fp + 500*fn\n",
    "    return cost"
   ]
  },
  {
   "cell_type": "code",
   "execution_count": 15,
   "id": "dff4c382",
   "metadata": {},
   "outputs": [],
   "source": [
    "# Create a function which can evaluate models and return a report \n",
    "def evaluate_models(X, y, models):\n",
    "    '''\n",
    "    This function takes in X and y and models dictionary as input\n",
    "    It splits the data into Train Test split\n",
    "    Iterates through the given model dictionary and evaluates the metrics\n",
    "    Returns: Dataframe which contains report of all models metrics with cost\n",
    "    '''\n",
    "    # separate dataset into train and test\n",
    "    X_train, X_test, y_train, y_test = train_test_split(X,y,test_size=0.2,random_state=42)\n",
    "    \n",
    "    cost_list=[]\n",
    "    models_list = []\n",
    "    accuracy_list = []\n",
    "    \n",
    "    for i in range(len(list(models))):\n",
    "        model = list(models.values())[i]\n",
    "        model.fit(X_train, y_train) # Train model\n",
    "\n",
    "        # Make predictions\n",
    "        y_train_pred = model.predict(X_train)\n",
    "        y_test_pred = model.predict(X_test)\n",
    "\n",
    "        # Training set performance\n",
    "        model_train_accuracy, model_train_f1,model_train_precision,\\\n",
    "        model_train_recall,model_train_rocauc_score=evaluate_clf(y_train ,y_train_pred)\n",
    "        train_cost = total_cost(y_train, y_train_pred)\n",
    "\n",
    "\n",
    "        # Test set performance\n",
    "        model_test_accuracy,model_test_f1,model_test_precision,\\\n",
    "        model_test_recall,model_test_rocauc_score=evaluate_clf(y_test, y_test_pred)\n",
    "        test_cost = total_cost(y_test, y_test_pred)\n",
    "\n",
    "        print(list(models.keys())[i])\n",
    "        models_list.append(list(models.keys())[i])\n",
    "\n",
    "        print('Model performance for Training set')\n",
    "        print(\"- Accuracy: {:.4f}\".format(model_train_accuracy))\n",
    "        print('- F1 score: {:.4f}'.format(model_train_f1)) \n",
    "        print('- Precision: {:.4f}'.format(model_train_precision))\n",
    "        print('- Recall: {:.4f}'.format(model_train_recall))\n",
    "        print('- Roc Auc Score: {:.4f}'.format(model_train_rocauc_score))\n",
    "        print(f'- COST: {train_cost}.')\n",
    "\n",
    "        print('----------------------------------')\n",
    "\n",
    "        print('Model performance for Test set')\n",
    "        print('- Accuracy: {:.4f}'.format(model_test_accuracy))\n",
    "        print('- F1 score: {:.4f}'.format(model_test_f1))\n",
    "        print('- Precision: {:.4f}'.format(model_test_precision))\n",
    "        print('- Recall: {:.4f}'.format(model_test_recall))\n",
    "        print('- Roc Auc Score: {:.4f}'.format(model_test_rocauc_score))\n",
    "        print(f'- COST: {test_cost}.')\n",
    "        cost_list.append(test_cost)\n",
    "        print('='*35)\n",
    "        print('\\n')\n",
    "        \n",
    "    report=pd.DataFrame(list(zip(models_list, cost_list)), columns=['Model Name', 'Cost']).sort_values(by=[\"Cost\"])\n",
    "        \n",
    "    return report"
   ]
  },
  {
   "cell_type": "markdown",
   "id": "8216eff9",
   "metadata": {},
   "source": [
    "#### Plot distribution of all independent numerical features"
   ]
  },
  {
   "cell_type": "code",
   "execution_count": 16,
   "id": "b17c7526",
   "metadata": {},
   "outputs": [],
   "source": [
    "# numeric_features = [feature for feature in data.columns if data[feature].dtype != 'O']\n",
    "\n",
    "# plt.figure(figsize=(15, 100))\n",
    "# for i, col in enumerate(numeric_features):\n",
    "#     plt.subplot(60, 3, i+1)\n",
    "#     sns.distplot(x=data[col], color='indianred')\n",
    "#     plt.xlabel(col, weight='bold')\n",
    "#     plt.tight_layout()"
   ]
  },
  {
   "cell_type": "markdown",
   "id": "b7f889a6",
   "metadata": {},
   "source": [
    "#### Report\n",
    "\n",
    "- As per the above plot most of the features are not normally distributed.\n",
    "- Transformation of data is not of prime importance since it is a classification problem.\n",
    "- Interpreting each and every column is not necessary as this is sensor data."
   ]
  },
  {
   "cell_type": "code",
   "execution_count": null,
   "id": "14380cb1",
   "metadata": {},
   "outputs": [],
   "source": []
  },
  {
   "cell_type": "markdown",
   "id": "60b03c44",
   "metadata": {},
   "source": [
    "#### Evaluate models based on experiments"
   ]
  },
  {
   "cell_type": "code",
   "execution_count": 17,
   "id": "45dbc17e",
   "metadata": {},
   "outputs": [],
   "source": [
    "X = data.drop(\"Good/Bad\", axis=1)\n",
    "y = data['Good/Bad']"
   ]
  },
  {
   "cell_type": "markdown",
   "id": "3f428fba",
   "metadata": {},
   "source": [
    "#### Manually encode label feature"
   ]
  },
  {
   "cell_type": "code",
   "execution_count": 18,
   "id": "612e8692",
   "metadata": {},
   "outputs": [],
   "source": [
    "y= y.replace({-1: 0})"
   ]
  },
  {
   "cell_type": "markdown",
   "id": "a33a7f31",
   "metadata": {},
   "source": [
    "## Experiment: 1 - KNN Imputer for NULL values"
   ]
  },
  {
   "cell_type": "markdown",
   "id": "2a3408f6",
   "metadata": {},
   "source": [
    "#### Why Robust scaler and not Standard scaler?\n",
    "\n",
    "- Scaling the data using Robust scaler\n",
    "- Since most of the independent variables are not normally distributed we cannot use Standardscaler\n",
    "\n",
    "#### Why Robust Scaler and not Minmax?\n",
    "\n",
    "- Because most of the feature has outliers. So Minmax will scale data according to Max values which is outlier.\n",
    "- This Scaler removes the median and scales the data according to the quantile range (defaults to IQR: Interquartile Range). The IQR is the range between the 1st quartile (25th quantile) and the 3rd quartile (75th quantile)."
   ]
  },
  {
   "cell_type": "code",
   "execution_count": 19,
   "id": "91ec7199",
   "metadata": {},
   "outputs": [],
   "source": [
    "robustscaler = RobustScaler()\n",
    "X1 = robustscaler.fit_transform(X)"
   ]
  },
  {
   "cell_type": "markdown",
   "id": "d858b42a",
   "metadata": {},
   "source": [
    "#### Why KNN Imputer?\n",
    "\n",
    "- KNNImputer by scikit-learn is a widely used method to impute missing values. It is widely being observed as a replacement for traditional imputation techniques.\n",
    "- KNNImputer helps to impute missing values present in the observations by finding the nearest neighbors with the Euclidean distance matrix.\n",
    "- Here we Iterates through different K values and get accuracy and choose best K values."
   ]
  },
  {
   "cell_type": "markdown",
   "id": "da39fee9",
   "metadata": {},
   "source": [
    "#### Finding the optimal n_neighbour value for KNN imputer"
   ]
  },
  {
   "cell_type": "code",
   "execution_count": 20,
   "id": "12a2a7a2",
   "metadata": {},
   "outputs": [
    {
     "name": "stdout",
     "output_type": "stream",
     "text": [
      "n_neighbors= 1 || accuracy (0.9176)\n",
      "n_neighbors= 3 || accuracy (0.9080)\n",
      "n_neighbors= 5 || accuracy (0.9283)\n",
      "n_neighbors= 7 || accuracy (0.9271)\n",
      "n_neighbors= 9 || accuracy (0.9068)\n"
     ]
    }
   ],
   "source": [
    "results=[]\n",
    "# define imputer\n",
    "imputer = KNNImputer(n_neighbors=5, weights='uniform', metric='nan_euclidean')\n",
    "strategies = [str(i) for i in [1,3,5,7,9]]\n",
    "for s in strategies:\n",
    "    pipeline = Pipeline(steps=[('i', KNNImputer(n_neighbors=int(s))), ('m', LogisticRegression())])\n",
    "    scores = cross_val_score(pipeline, X1, y, scoring='accuracy', cv=2, n_jobs=-1)\n",
    "    results.append(scores)\n",
    "    print('n_neighbors= %s || accuracy (%.4f)' % (s , mean(scores)))"
   ]
  },
  {
   "cell_type": "markdown",
   "id": "3a6d5e2f",
   "metadata": {},
   "source": [
    "#### We can observe n_neighbors=3 able to produce highest accuracy"
   ]
  },
  {
   "cell_type": "markdown",
   "id": "81be4e83",
   "metadata": {},
   "source": [
    "#### Pipeline for KNN imputer"
   ]
  },
  {
   "cell_type": "code",
   "execution_count": 21,
   "id": "fa6d328d",
   "metadata": {},
   "outputs": [],
   "source": [
    "num_features = X.select_dtypes(exclude=\"object\").columns\n",
    "\n",
    "# Fit the KNN imputer with selected K-value\n",
    "knn_pipeline = Pipeline(steps=[\n",
    "    ('imputer', KNNImputer(n_neighbors=3)),\n",
    "    ('RobustScaler', RobustScaler())\n",
    "])"
   ]
  },
  {
   "cell_type": "code",
   "execution_count": 22,
   "id": "785301e5",
   "metadata": {},
   "outputs": [],
   "source": [
    "X_knn =knn_pipeline.fit_transform(X)"
   ]
  },
  {
   "cell_type": "markdown",
   "id": "5d28a73d",
   "metadata": {},
   "source": [
    "### Handling Imbalanced data\n",
    "- SMOTE+TOMEK is one of such a hybrid technique that aims to clean overlapping data points for each of the classes distributed in sample space.\n",
    "\n",
    "- This method combines the SMOTE ability to generate synthetic data for minority class and Tomek Links ability to remove the data that are identified as Tomek links from the majority class\n",
    "\n",
    "#### To add new data of minority class\n",
    "\n",
    "- Choose random data from the minority class.\n",
    "- Calculate the distance between the random data and its k nearest neighbors.\n",
    "- Multiply the difference with a random number between 0 and 1, then add the result to the minority class as a synthetic sample.\n",
    "- Repeat step number 2–3 until the desired proportion of minority class is met.\n",
    "- To remove the tomek links of the majority class\n",
    "- Choose random data from the majority class.\n",
    "- If the random data’s nearest neighbor is the data from the minority class (i.e. create the Tomek Link), then remove the Tomek Link.\n",
    "- This is method instead of adding duplicate data it synthesises the new data based on the already avalialble classes. Hence we choose this as our imputer method for this problem."
   ]
  },
  {
   "cell_type": "code",
   "execution_count": 23,
   "id": "6f9eaa35",
   "metadata": {},
   "outputs": [
    {
     "ename": "NameError",
     "evalue": "name 'SMOTETomek' is not defined",
     "output_type": "error",
     "traceback": [
      "\u001b[1;31m---------------------------------------------------------------------------\u001b[0m",
      "\u001b[1;31mNameError\u001b[0m                                 Traceback (most recent call last)",
      "\u001b[1;32m~\\AppData\\Local\\Temp\\ipykernel_1248\\1896317346.py\u001b[0m in \u001b[0;36m<module>\u001b[1;34m\u001b[0m\n\u001b[0;32m      1\u001b[0m \u001b[1;31m# Resampling the minority class. The strategy can be changed as required.\u001b[0m\u001b[1;33m\u001b[0m\u001b[1;33m\u001b[0m\u001b[0m\n\u001b[1;32m----> 2\u001b[1;33m \u001b[0msmt\u001b[0m \u001b[1;33m=\u001b[0m \u001b[0mSMOTETomek\u001b[0m\u001b[1;33m(\u001b[0m\u001b[0mrandom_state\u001b[0m\u001b[1;33m=\u001b[0m\u001b[1;36m42\u001b[0m\u001b[1;33m,\u001b[0m\u001b[0msampling_strategy\u001b[0m\u001b[1;33m=\u001b[0m\u001b[1;34m'minority'\u001b[0m\u001b[1;33m,\u001b[0m\u001b[0mn_jobs\u001b[0m\u001b[1;33m=\u001b[0m\u001b[1;33m-\u001b[0m\u001b[1;36m1\u001b[0m\u001b[1;33m)\u001b[0m\u001b[1;33m\u001b[0m\u001b[1;33m\u001b[0m\u001b[0m\n\u001b[0m\u001b[0;32m      3\u001b[0m \u001b[1;33m\u001b[0m\u001b[0m\n\u001b[0;32m      4\u001b[0m \u001b[0msmt\u001b[0m \u001b[1;33m=\u001b[0m \u001b[0mSMOTETomek\u001b[0m\u001b[1;33m(\u001b[0m\u001b[0mrandom_state\u001b[0m\u001b[1;33m=\u001b[0m\u001b[1;36m42\u001b[0m\u001b[1;33m,\u001b[0m\u001b[0msampling_strategy\u001b[0m\u001b[1;33m=\u001b[0m\u001b[1;34m'minority'\u001b[0m\u001b[1;33m,\u001b[0m\u001b[0mn_jobs\u001b[0m\u001b[1;33m=\u001b[0m\u001b[1;33m-\u001b[0m\u001b[1;36m1\u001b[0m\u001b[1;33m)\u001b[0m\u001b[1;33m\u001b[0m\u001b[1;33m\u001b[0m\u001b[0m\n\u001b[0;32m      5\u001b[0m \u001b[1;33m\u001b[0m\u001b[0m\n",
      "\u001b[1;31mNameError\u001b[0m: name 'SMOTETomek' is not defined"
     ]
    }
   ],
   "source": [
    "\n",
    "# Resampling the minority class. The strategy can be changed as required.\n",
    "smt = SMOTETomek(random_state=42,sampling_strategy='minority',n_jobs=-1)\n",
    "\n",
    "smt = SMOTETomek(random_state=42,sampling_strategy='minority',n_jobs=-1)\n",
    "\n",
    "# Fit the model to generate the data.\n",
    "X_res, y_res = smt.fit_resample(X_knn, y)"
   ]
  },
  {
   "cell_type": "markdown",
   "id": "b11d99b2",
   "metadata": {},
   "source": [
    "#### Initialize Default Models in a dictionary"
   ]
  },
  {
   "cell_type": "code",
   "execution_count": null,
   "id": "a822d9c4",
   "metadata": {},
   "outputs": [],
   "source": []
  },
  {
   "cell_type": "code",
   "execution_count": null,
   "id": "a836394b",
   "metadata": {},
   "outputs": [],
   "source": [
    "# Dictionary which contains models for experiment\n",
    "models = {\n",
    "    \"Random Forest\": RandomForestClassifier(),\n",
    "    \"Decision Tree\": DecisionTreeClassifier(),\n",
    "    \"Gradient Boosting\": GradientBoostingClassifier(),\n",
    "    \"Logistic Regression\": LogisticRegression(),\n",
    "     \"K-Neighbors Classifier\": KNeighborsClassifier(),\n",
    "    \"AdaBoost Classifier\": AdaBoostClassifier()\n",
    "}"
   ]
  },
  {
   "cell_type": "markdown",
   "id": "551cab25",
   "metadata": {},
   "source": [
    "#### Fit KNN imputed data for models in dictionary"
   ]
  },
  {
   "cell_type": "code",
   "execution_count": null,
   "id": "323974e9",
   "metadata": {},
   "outputs": [],
   "source": [
    "report_knn = evaluate_models(X_res, y_res, models)\n"
   ]
  },
  {
   "cell_type": "markdown",
   "id": "aae71581",
   "metadata": {},
   "source": [
    "### Report for KNN Imputed data"
   ]
  },
  {
   "cell_type": "code",
   "execution_count": null,
   "id": "1b825dd5",
   "metadata": {},
   "outputs": [],
   "source": [
    "report_knn"
   ]
  },
  {
   "cell_type": "markdown",
   "id": "7345ea39",
   "metadata": {},
   "source": [
    "#### Insights\n",
    "\n",
    "- For the Experiment 1: Knn imputer has XGBoost classifier as the best Model\n",
    "- Proceeding with further experiments"
   ]
  },
  {
   "cell_type": "markdown",
   "id": "a3a4d1b3",
   "metadata": {},
   "source": [
    "### Experiment: 2 = Simple Imputer with Strategy Median\n",
    "- SimpleImputer is a class in the sklearn.impute module that can be used to replace missing values in a dataset, using a variety of input strategies.\n",
    "- Here we use SimpleImputer can also be used to impute multiple columns at once by passing in a list of column names. SimpleImputer will then replace missing values in all of the specified columns."
   ]
  },
  {
   "cell_type": "code",
   "execution_count": null,
   "id": "5b043087",
   "metadata": {},
   "outputs": [],
   "source": [
    "num_features = X.select_dtypes(exclude=\"object\").columns\n",
    "\n",
    "# Fit the Simple imputer with strategy median\n",
    "median_pipeline = Pipeline(steps=[\n",
    "    ('imputer', SimpleImputer(strategy='median')),\n",
    "    ('RobustScaler', RobustScaler())\n",
    "])"
   ]
  },
  {
   "cell_type": "code",
   "execution_count": null,
   "id": "72d4c2b8",
   "metadata": {},
   "outputs": [],
   "source": [
    "# Fit X with median_pipeline\n",
    "X_median = median_pipeline.fit_transform(X)"
   ]
  },
  {
   "cell_type": "code",
   "execution_count": null,
   "id": "d06e8254",
   "metadata": {},
   "outputs": [],
   "source": [
    "# Resampling the minority class. The strategy can be changed as required.\n",
    "smt = SMOTETomek(random_state=42,sampling_strategy='minority')\n",
    "# Fit the model to generate the data.\n",
    "X_res, y_res = smt.fit_resample(X_median, y)"
   ]
  },
  {
   "cell_type": "code",
   "execution_count": null,
   "id": "b3cbe8a8",
   "metadata": {},
   "outputs": [],
   "source": [
    "# Training the models\n",
    "report_median = evaluate_models(X_res, y_res, models)"
   ]
  },
  {
   "cell_type": "markdown",
   "id": "b8940892",
   "metadata": {},
   "source": [
    "#### Report for Simple Imputer with median strategy"
   ]
  },
  {
   "cell_type": "code",
   "execution_count": null,
   "id": "823428d4",
   "metadata": {},
   "outputs": [],
   "source": [
    "report_median"
   ]
  },
  {
   "cell_type": "markdown",
   "id": "306519c3",
   "metadata": {},
   "source": [
    "### Insights\n",
    "\n",
    "- For the Experiment 2: Simple imputer with median strategy has Catboost classifier as the best Model\n",
    "- Proceeding with further experiments"
   ]
  },
  {
   "cell_type": "markdown",
   "id": "a0e4ad73",
   "metadata": {},
   "source": [
    "### Report for MICE Imputer algorithm\n",
    "- MICE stands for Multivariate Imputation By Chained Equations algorithm\n",
    "- This technique by which we can effortlessly impute missing values in a dataset by looking at data from other columns and - trying to estimate the best prediction for each missing value.\n",
    "- ImputationKernel Creates a kernel dataset. This dataset can perform MICE on itself, and impute new data from models obtained during MICE."
   ]
  },
  {
   "cell_type": "code",
   "execution_count": null,
   "id": "f3aa0e11",
   "metadata": {},
   "outputs": [],
   "source": [
    "import miceforest as mf\n",
    "\n",
    "X_mice = X.copy()\n",
    "kernel = mf.ImputationKernel(\n",
    "  X_mice,\n",
    "  save_all_iterations=True,\n",
    "  random_state=1989\n",
    ")# Run the MICE algorithm for 3 iterations kernel.mice(3)"
   ]
  },
  {
   "cell_type": "code",
   "execution_count": null,
   "id": "e1af3ec8",
   "metadata": {},
   "outputs": [],
   "source": [
    "X_mice = kernel.complete_data()"
   ]
  },
  {
   "cell_type": "code",
   "execution_count": null,
   "id": "f2963544",
   "metadata": {},
   "outputs": [],
   "source": [
    "# fit robust scaler\n",
    "mice_pipeline = Pipeline(steps=[\n",
    "    ('RobustScaler', RobustScaler())\n",
    "])"
   ]
  },
  {
   "cell_type": "code",
   "execution_count": null,
   "id": "44047b12",
   "metadata": {},
   "outputs": [],
   "source": [
    "# Fit X with Mice imputer \n",
    "X_mice= mice_pipeline.fit_transform(X_mice)"
   ]
  },
  {
   "cell_type": "code",
   "execution_count": null,
   "id": "8e89a1e5",
   "metadata": {},
   "outputs": [],
   "source": [
    "# Resampling the minority class. The strategy can be changed as required.\n",
    "smt = SMOTETomek(random_state=42,sampling_strategy='minority', n_jobs=-1 )\n",
    "# Fit the model to generate the data.\n",
    "X_res, y_res = smt.fit_resample(X_mice, y)"
   ]
  },
  {
   "cell_type": "code",
   "execution_count": null,
   "id": "cf6e70e5",
   "metadata": {},
   "outputs": [],
   "source": [
    "# Training the models\n",
    "report_mice = evaluate_models(X_res, y_res, models)"
   ]
  },
  {
   "cell_type": "markdown",
   "id": "f7bf3ec9",
   "metadata": {},
   "source": [
    "### Report for MICE Imputer algorithm"
   ]
  },
  {
   "cell_type": "code",
   "execution_count": null,
   "id": "ba8f85be",
   "metadata": {},
   "outputs": [],
   "source": [
    "report_mice"
   ]
  },
  {
   "cell_type": "markdown",
   "id": "a3d2e1e0",
   "metadata": {},
   "source": [
    "### Insights\n",
    "\n",
    "- For the Experiment 3: Mice imputer has XGBoost classifier as the best Model\n",
    "- Proceeding with further experiments"
   ]
  },
  {
   "cell_type": "markdown",
   "id": "45344822",
   "metadata": {},
   "source": [
    "## Experiment: 4 = Simple Imputer with Strategy Constant\n",
    "- Another strategy which can be used is replacing missing values with a fixed (constant) value.\n",
    "- To do this, specify “constant” for strategy and specify the fill value using the fill_value parameter"
   ]
  },
  {
   "cell_type": "code",
   "execution_count": null,
   "id": "65f1eef9",
   "metadata": {},
   "outputs": [],
   "source": [
    "# Create a pipeline with simple imputer with strategy constant and fill value 0\n",
    "constant_pipeline = Pipeline(steps=[\n",
    "    ('Imputer', SimpleImputer(strategy='constant', fill_value=0)),\n",
    "    ('RobustScaler', RobustScaler())\n",
    "])"
   ]
  },
  {
   "cell_type": "code",
   "execution_count": null,
   "id": "7f2a4cd3",
   "metadata": {},
   "outputs": [],
   "source": [
    "X_const =constant_pipeline.fit_transform(X)"
   ]
  },
  {
   "cell_type": "code",
   "execution_count": null,
   "id": "dcdce4e7",
   "metadata": {},
   "outputs": [],
   "source": [
    "# Resampling the minority class. The strategy can be changed as required.\n",
    "smt = SMOTETomek(random_state=42,sampling_strategy='minority', n_jobs=-1 )\n",
    "# Fit the model to generate the data.\n",
    "X_res, y_res = smt.fit_resample(X_const, y)"
   ]
  },
  {
   "cell_type": "code",
   "execution_count": null,
   "id": "b738c9ba",
   "metadata": {},
   "outputs": [],
   "source": [
    "# training the models\n",
    "report_const = evaluate_models(X_res, y_res, models)"
   ]
  },
  {
   "cell_type": "markdown",
   "id": "f8ecf4de",
   "metadata": {},
   "source": [
    "### Report for Simple Imputer with Constant strategy"
   ]
  },
  {
   "cell_type": "code",
   "execution_count": null,
   "id": "409bc517",
   "metadata": {},
   "outputs": [],
   "source": [
    "report_const"
   ]
  },
  {
   "cell_type": "markdown",
   "id": "c2b2296d",
   "metadata": {},
   "source": [
    "### Insights\n",
    "\n",
    "- For the Experiment 4: Simple imputer with constant strategy has XGBoost classifier as the best Model\n",
    "- Proceeding with further experiments"
   ]
  },
  {
   "cell_type": "markdown",
   "id": "32b12db6",
   "metadata": {},
   "source": [
    "## Experiment: 5 = Simple Imputer with Strategy Mean\n",
    "- Another strategy which can be used is replacing missing values with mean\n",
    "- Here we replace the missing values with the mean of the column"
   ]
  },
  {
   "cell_type": "code",
   "execution_count": null,
   "id": "9e8901f4",
   "metadata": {},
   "outputs": [],
   "source": [
    "# Create a pipeline with Simple imputer with strategy mean\n",
    "mean_pipeline = Pipeline(steps=[\n",
    "    ('Imputer', SimpleImputer(strategy='mean')),\n",
    "    ('RobustScaler', RobustScaler())\n",
    "])"
   ]
  },
  {
   "cell_type": "code",
   "execution_count": null,
   "id": "94279042",
   "metadata": {},
   "outputs": [],
   "source": [
    "X_mean = mean_pipeline.fit_transform(X)"
   ]
  },
  {
   "cell_type": "code",
   "execution_count": null,
   "id": "556d2796",
   "metadata": {},
   "outputs": [],
   "source": [
    "# Resampling the minority class. The strategy can be changed as required.\n",
    "smt = SMOTETomek(random_state=42,sampling_strategy='minority' , n_jobs=-1)\n",
    "# Fit the model to generate the data.\n",
    "X_res, y_res = smt.fit_resample(X_mean, y)"
   ]
  },
  {
   "cell_type": "code",
   "execution_count": null,
   "id": "95af2adf",
   "metadata": {},
   "outputs": [],
   "source": [
    "# Training all models\n",
    "report_mean = evaluate_models(X_res, y_res, models)"
   ]
  },
  {
   "cell_type": "markdown",
   "id": "a156a237",
   "metadata": {},
   "source": [
    "### Report for Simple imputer with strategy mean"
   ]
  },
  {
   "cell_type": "code",
   "execution_count": null,
   "id": "d09e3b54",
   "metadata": {},
   "outputs": [],
   "source": [
    "report_mean"
   ]
  },
  {
   "cell_type": "markdown",
   "id": "62d84cff",
   "metadata": {},
   "source": [
    "## Experiment: 5 = Principle component analysis with imputing median\n",
    "- Principal component analysis is a technique for feature extraction — so it combines our input variables in a specific way, then we can drop the “least important” variables while still retaining the most valuable parts of all of the variables!\n",
    "- As the dataset has 164 columns we can try PCA and check our metrics Cost"
   ]
  },
  {
   "cell_type": "code",
   "execution_count": null,
   "id": "bb071595",
   "metadata": {},
   "outputs": [],
   "source": [
    "from sklearn.decomposition import PCA"
   ]
  },
  {
   "cell_type": "code",
   "execution_count": null,
   "id": "73bed8fd",
   "metadata": {},
   "outputs": [],
   "source": [
    "pca_pipeline = Pipeline(steps=[\n",
    "    ('Imputer', SimpleImputer(strategy='constant', fill_value=0)),\n",
    "    ('RobustScaler', RobustScaler())\n",
    "])"
   ]
  },
  {
   "cell_type": "code",
   "execution_count": null,
   "id": "bb74d750",
   "metadata": {},
   "outputs": [],
   "source": [
    "#Applying PCA\n",
    "from sklearn.decomposition import PCA\n",
    "var_ratio={}\n",
    "for n in range(2,150):\n",
    "    pc=PCA(n_components=n)\n",
    "    df_pca=pc.fit(X_pca)\n",
    "    var_ratio[n]=sum(df_pca.explained_variance_ratio_)"
   ]
  },
  {
   "cell_type": "markdown",
   "id": "05165ad4",
   "metadata": {},
   "source": [
    "#### Variance Plot"
   ]
  },
  {
   "cell_type": "code",
   "execution_count": null,
   "id": "295df9d0",
   "metadata": {},
   "outputs": [],
   "source": [
    "# plotting variance ratio\n",
    "pd.Series(var_ratio).plot()"
   ]
  },
  {
   "cell_type": "markdown",
   "id": "e71df115",
   "metadata": {},
   "source": [
    "#### Kneed algorithm to find the elbow point"
   ]
  },
  {
   "cell_type": "code",
   "execution_count": null,
   "id": "ba71ce7a",
   "metadata": {},
   "outputs": [],
   "source": [
    "from kneed import KneeLocator\n",
    "\n",
    "i = np.arange(len(var_ratio))\n",
    "variance_ratio= list(var_ratio.values())\n",
    "components=  list(var_ratio.keys())\n",
    "knee = KneeLocator(i, variance_ratio, S=1, curve='concave', interp_method='polynomial')\n",
    "\n",
    "fig = plt.figure(figsize=(5, 5))\n",
    "knee.plot_knee()\n",
    "plt.xlabel(\"Points\")\n",
    "plt.ylabel(\"Distance\")\n",
    "plt.show()\n",
    "k= components[knee.knee]\n",
    "print('Knee Locator k =', k)"
   ]
  },
  {
   "cell_type": "code",
   "execution_count": null,
   "id": "30c66686",
   "metadata": {},
   "outputs": [],
   "source": [
    "# Reducing the dimensions of the data \n",
    "pca_final=PCA(n_components=18,random_state=42).fit(X_res)\n",
    "\n",
    "reduced=pca_final.fit_transform(X_pca)"
   ]
  },
  {
   "cell_type": "code",
   "execution_count": null,
   "id": "d9653c6f",
   "metadata": {},
   "outputs": [],
   "source": [
    "# Resampling the minority class. The strategy can be changed as required.\n",
    "smt = SMOTETomek(random_state=42,sampling_strategy='minority', n_jobs=-1)\n",
    "# Fit the model to generate the data.\n",
    "X_res, y_res = smt.fit_resample(reduced, y)"
   ]
  },
  {
   "cell_type": "code",
   "execution_count": null,
   "id": "c30e297f",
   "metadata": {},
   "outputs": [],
   "source": [
    "# Training all models\n",
    "report_pca = evaluate_models(X_res,y_res, models)"
   ]
  },
  {
   "cell_type": "markdown",
   "id": "a0bdc3f0",
   "metadata": {},
   "source": [
    "## Report for PCA and Mean imputed data"
   ]
  },
  {
   "cell_type": "code",
   "execution_count": null,
   "id": "9e488d98",
   "metadata": {},
   "outputs": [],
   "source": [
    "report_pca"
   ]
  },
  {
   "cell_type": "markdown",
   "id": "788633d1",
   "metadata": {},
   "source": [
    "# Final Model"
   ]
  },
  {
   "cell_type": "code",
   "execution_count": null,
   "id": "b451f58f",
   "metadata": {},
   "outputs": [],
   "source": [
    "from prettytable import PrettyTable\n",
    "\n",
    "pt=PrettyTable()\n",
    "pt.field_names=[\"Model\",\"Imputation_method\",\"Total_cost\"]\n",
    "pt.add_row([\"XGBClassifier\",\"Simple Imputer-Constant\",\"2950\"])\n",
    "pt.add_row([\"XGBClassifier\",\"Mice\",\"3510\"])\n",
    "pt.add_row([\"XGBClassifier\",\"Knn-Imputer\",\"4460\"])\n",
    "pt.add_row([\"XGBClassifier\",\"Simple Imputer-Mean\",\"4950\"])\n",
    "pt.add_row([\"CatBoostClassifier\",\"Median\",\"5760\"])\n",
    "pt.add_row([\"Random Forest\",\"PCA\",\"34150\"])\n",
    "print(pt)"
   ]
  },
  {
   "cell_type": "markdown",
   "id": "df2d18a0",
   "metadata": {},
   "source": [
    "#### Report\n",
    "\n",
    "- From the final report we can see than XGBClassifier with Simple imputer with strategy constant has performed the best with cost of 2950"
   ]
  },
  {
   "cell_type": "markdown",
   "id": "75c79f64",
   "metadata": {},
   "source": [
    "#### Fitting the Final model and get reports"
   ]
  },
  {
   "cell_type": "code",
   "execution_count": null,
   "id": "f8fd3343",
   "metadata": {},
   "outputs": [],
   "source": [
    "final_model = XGBClassifier()\n",
    "\n",
    "# Resampling the minority class. The strategy can be changed as required.\n",
    "smt = SMOTETomek(random_state=42,sampling_strategy='minority', n_jobs=-1)\n",
    "# Fit the model to generate the data.\n",
    "X_res, y_res = smt.fit_resample(X_const, y)"
   ]
  },
  {
   "cell_type": "code",
   "execution_count": null,
   "id": "20f70b85",
   "metadata": {},
   "outputs": [],
   "source": [
    "X_train, X_test, y_train, y_test = train_test_split(X_res,y_res,test_size=0.2,random_state=42)\n",
    "\n",
    "final_model = final_model.fit(X_train, y_train)\n",
    "y_pred = final_model.predict(X_test)"
   ]
  },
  {
   "cell_type": "code",
   "execution_count": null,
   "id": "15e8c055",
   "metadata": {},
   "outputs": [],
   "source": [
    "print(\"Final XGBoost Classifier Accuracy Score (Train) :\", final_model.score(X_train,y_train))\n",
    "print(\"Final XGBoost Classifier Accuracy Score (Test) :\", accuracy_score(y_pred,y_test))"
   ]
  },
  {
   "cell_type": "code",
   "execution_count": null,
   "id": "067bc205",
   "metadata": {},
   "outputs": [],
   "source": [
    "print(\"Final XGBoost Classifier Cost Metric(Test) :\",total_cost(y_test, y_pred))"
   ]
  },
  {
   "cell_type": "code",
   "execution_count": null,
   "id": "7d59b75b",
   "metadata": {},
   "outputs": [],
   "source": [
    "from sklearn.metrics import plot_confusion_matrix\n",
    "\n",
    "#plots Confusion matrix\n",
    "plot_confusion_matrix(final_model, X_test, y_test, cmap='Blues', values_format='d')"
   ]
  },
  {
   "cell_type": "code",
   "execution_count": null,
   "id": "f85760eb",
   "metadata": {},
   "outputs": [],
   "source": []
  },
  {
   "cell_type": "code",
   "execution_count": null,
   "id": "06470fbe",
   "metadata": {},
   "outputs": [],
   "source": []
  },
  {
   "cell_type": "code",
   "execution_count": null,
   "id": "1ff3fca0",
   "metadata": {},
   "outputs": [],
   "source": []
  },
  {
   "cell_type": "code",
   "execution_count": null,
   "id": "a8679fb6",
   "metadata": {},
   "outputs": [],
   "source": []
  },
  {
   "cell_type": "code",
   "execution_count": null,
   "id": "2ca504ec",
   "metadata": {},
   "outputs": [],
   "source": []
  },
  {
   "cell_type": "code",
   "execution_count": null,
   "id": "cf47ba85",
   "metadata": {},
   "outputs": [],
   "source": []
  },
  {
   "cell_type": "code",
   "execution_count": null,
   "id": "680b8313",
   "metadata": {},
   "outputs": [],
   "source": []
  },
  {
   "cell_type": "code",
   "execution_count": null,
   "id": "91c176c5",
   "metadata": {},
   "outputs": [],
   "source": []
  },
  {
   "cell_type": "code",
   "execution_count": null,
   "id": "4685bf95",
   "metadata": {},
   "outputs": [],
   "source": []
  },
  {
   "cell_type": "code",
   "execution_count": null,
   "id": "16157234",
   "metadata": {},
   "outputs": [],
   "source": []
  },
  {
   "cell_type": "code",
   "execution_count": null,
   "id": "e11fd2a9",
   "metadata": {},
   "outputs": [],
   "source": []
  },
  {
   "cell_type": "code",
   "execution_count": null,
   "id": "99d47906",
   "metadata": {},
   "outputs": [],
   "source": []
  },
  {
   "cell_type": "code",
   "execution_count": null,
   "id": "9b0d34ad",
   "metadata": {},
   "outputs": [],
   "source": []
  },
  {
   "cell_type": "code",
   "execution_count": null,
   "id": "80ec9152",
   "metadata": {},
   "outputs": [],
   "source": []
  },
  {
   "cell_type": "code",
   "execution_count": null,
   "id": "6781fad8",
   "metadata": {},
   "outputs": [],
   "source": []
  },
  {
   "cell_type": "code",
   "execution_count": null,
   "id": "1dddb2b6",
   "metadata": {},
   "outputs": [],
   "source": []
  },
  {
   "cell_type": "code",
   "execution_count": null,
   "id": "a7bff148",
   "metadata": {},
   "outputs": [],
   "source": []
  },
  {
   "cell_type": "code",
   "execution_count": null,
   "id": "8c542d5a",
   "metadata": {},
   "outputs": [],
   "source": []
  }
 ],
 "metadata": {
  "kernelspec": {
   "display_name": "Python 3 (ipykernel)",
   "language": "python",
   "name": "python3"
  },
  "language_info": {
   "codemirror_mode": {
    "name": "ipython",
    "version": 3
   },
   "file_extension": ".py",
   "mimetype": "text/x-python",
   "name": "python",
   "nbconvert_exporter": "python",
   "pygments_lexer": "ipython3",
   "version": "3.9.13"
  }
 },
 "nbformat": 4,
 "nbformat_minor": 5
}
